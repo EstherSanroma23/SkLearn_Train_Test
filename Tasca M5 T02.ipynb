{
 "cells": [
  {
   "cell_type": "markdown",
   "id": "86f3b073",
   "metadata": {},
   "source": [
    "### Exercici 1\n",
    "#### Parteix el conjunt de dades adjunt en train i test. Estudia els dos conjunts per separat, a nivell descriptiu.\n",
    "També adjunt trobaràs una descripció de les diferents variables del dataset.\n",
    "\n"
   ]
  },
  {
   "cell_type": "code",
   "execution_count": 135,
   "id": "89d0a2bb",
   "metadata": {},
   "outputs": [],
   "source": [
    "import pandas as pd\n",
    "import numpy as np"
   ]
  },
  {
   "cell_type": "code",
   "execution_count": 136,
   "id": "a3bbbb1f",
   "metadata": {},
   "outputs": [
    {
     "data": {
      "text/html": [
       "<div>\n",
       "<style scoped>\n",
       "    .dataframe tbody tr th:only-of-type {\n",
       "        vertical-align: middle;\n",
       "    }\n",
       "\n",
       "    .dataframe tbody tr th {\n",
       "        vertical-align: top;\n",
       "    }\n",
       "\n",
       "    .dataframe thead th {\n",
       "        text-align: right;\n",
       "    }\n",
       "</style>\n",
       "<table border=\"1\" class=\"dataframe\">\n",
       "  <thead>\n",
       "    <tr style=\"text-align: right;\">\n",
       "      <th></th>\n",
       "      <th>CRIM</th>\n",
       "      <th>ZN</th>\n",
       "      <th>INDUS</th>\n",
       "      <th>CHAS</th>\n",
       "      <th>NOX</th>\n",
       "      <th>RM</th>\n",
       "      <th>AGE</th>\n",
       "      <th>DIS</th>\n",
       "      <th>RAD</th>\n",
       "      <th>TAX</th>\n",
       "      <th>PTRATIO</th>\n",
       "      <th>B</th>\n",
       "      <th>LSTAT</th>\n",
       "      <th>MEDV</th>\n",
       "    </tr>\n",
       "  </thead>\n",
       "  <tbody>\n",
       "    <tr>\n",
       "      <th>0</th>\n",
       "      <td>0.00632</td>\n",
       "      <td>18.0</td>\n",
       "      <td>2.31</td>\n",
       "      <td>0</td>\n",
       "      <td>0.538</td>\n",
       "      <td>6.575</td>\n",
       "      <td>65.2</td>\n",
       "      <td>4.0900</td>\n",
       "      <td>1</td>\n",
       "      <td>296.0</td>\n",
       "      <td>15.3</td>\n",
       "      <td>396.90</td>\n",
       "      <td>4.98</td>\n",
       "      <td>24.0</td>\n",
       "    </tr>\n",
       "    <tr>\n",
       "      <th>1</th>\n",
       "      <td>0.02731</td>\n",
       "      <td>0.0</td>\n",
       "      <td>7.07</td>\n",
       "      <td>0</td>\n",
       "      <td>0.469</td>\n",
       "      <td>6.421</td>\n",
       "      <td>78.9</td>\n",
       "      <td>4.9671</td>\n",
       "      <td>2</td>\n",
       "      <td>242.0</td>\n",
       "      <td>17.8</td>\n",
       "      <td>396.90</td>\n",
       "      <td>9.14</td>\n",
       "      <td>21.6</td>\n",
       "    </tr>\n",
       "    <tr>\n",
       "      <th>2</th>\n",
       "      <td>0.02729</td>\n",
       "      <td>0.0</td>\n",
       "      <td>7.07</td>\n",
       "      <td>0</td>\n",
       "      <td>0.469</td>\n",
       "      <td>7.185</td>\n",
       "      <td>61.1</td>\n",
       "      <td>4.9671</td>\n",
       "      <td>2</td>\n",
       "      <td>242.0</td>\n",
       "      <td>17.8</td>\n",
       "      <td>392.83</td>\n",
       "      <td>4.03</td>\n",
       "      <td>34.7</td>\n",
       "    </tr>\n",
       "    <tr>\n",
       "      <th>3</th>\n",
       "      <td>0.03237</td>\n",
       "      <td>0.0</td>\n",
       "      <td>2.18</td>\n",
       "      <td>0</td>\n",
       "      <td>0.458</td>\n",
       "      <td>6.998</td>\n",
       "      <td>45.8</td>\n",
       "      <td>6.0622</td>\n",
       "      <td>3</td>\n",
       "      <td>222.0</td>\n",
       "      <td>18.7</td>\n",
       "      <td>394.63</td>\n",
       "      <td>2.94</td>\n",
       "      <td>33.4</td>\n",
       "    </tr>\n",
       "    <tr>\n",
       "      <th>4</th>\n",
       "      <td>0.06905</td>\n",
       "      <td>0.0</td>\n",
       "      <td>2.18</td>\n",
       "      <td>0</td>\n",
       "      <td>0.458</td>\n",
       "      <td>7.147</td>\n",
       "      <td>54.2</td>\n",
       "      <td>6.0622</td>\n",
       "      <td>3</td>\n",
       "      <td>222.0</td>\n",
       "      <td>18.7</td>\n",
       "      <td>396.90</td>\n",
       "      <td>5.33</td>\n",
       "      <td>36.2</td>\n",
       "    </tr>\n",
       "  </tbody>\n",
       "</table>\n",
       "</div>"
      ],
      "text/plain": [
       "      CRIM    ZN  INDUS  CHAS    NOX     RM   AGE     DIS  RAD    TAX  \\\n",
       "0  0.00632  18.0   2.31     0  0.538  6.575  65.2  4.0900    1  296.0   \n",
       "1  0.02731   0.0   7.07     0  0.469  6.421  78.9  4.9671    2  242.0   \n",
       "2  0.02729   0.0   7.07     0  0.469  7.185  61.1  4.9671    2  242.0   \n",
       "3  0.03237   0.0   2.18     0  0.458  6.998  45.8  6.0622    3  222.0   \n",
       "4  0.06905   0.0   2.18     0  0.458  7.147  54.2  6.0622    3  222.0   \n",
       "\n",
       "   PTRATIO       B  LSTAT  MEDV  \n",
       "0     15.3  396.90   4.98  24.0  \n",
       "1     17.8  396.90   9.14  21.6  \n",
       "2     17.8  392.83   4.03  34.7  \n",
       "3     18.7  394.63   2.94  33.4  \n",
       "4     18.7  396.90   5.33  36.2  "
      ]
     },
     "execution_count": 136,
     "metadata": {},
     "output_type": "execute_result"
    }
   ],
   "source": [
    "columnes= [\"CRIM\",\"ZN\",\"INDUS\",\"CHAS\",\"NOX\",\"RM\",\"AGE\",\"DIS\",\"RAD\",\"TAX\",\"PTRATIO\",\"B\",\"LSTAT\",\"MEDV\"]\n",
    "data= pd.read_csv(\"/Users/esthersanroma/Desktop/DATA SCIENCES/housing data.csv\", sep=',', names = columnes,encoding=\"latin-1\",header=None)\n",
    "data.head(5)"
   ]
  },
  {
   "cell_type": "markdown",
   "id": "cecc6e5e",
   "metadata": {},
   "source": [
    "\n",
    "    1. CRIM      per capita crime rate by town\n",
    "                 Taxa de delinqüència per càpita per municipis.\n",
    "    2. ZN        proportion of residential land zoned for lots over \n",
    "                 25,000 sq.ft.\n",
    "                 Proporció ZN de sòl residencial zonificat per a solars superiors\n",
    "                 25.000 peus quadrats.\n",
    "    3. INDUS     proportion of non-retail business acres per town.\n",
    "                 Proporció INDUS d'hectàrees comercials no minoristes per ciutat.\n",
    "    4. CHAS      Charles River dummy variable (= 1 if tract bounds \n",
    "                 river; 0 otherwise)\n",
    "                 Variable ficticia de CHAS Charles River (= 1 si els límits del \n",
    "                 tracte riu; 0 en cas contrari)\n",
    "    5. NOX       nitric oxides concentration (parts per 10 million)\n",
    "                 Concentració d'òxids nítrics de NOX (parts per 10 milions)\n",
    "    6. RM        average number of rooms per dwelling\n",
    "                 nombre mitjà d'habitacions per habitatge\n",
    "    7. AGE       proportion of owner-occupied units built prior to 1940\n",
    "                 Proporció d'EDAT de les unitats ocupades pel propietari construïdes\n",
    "                 abans de 1940\n",
    "    8. DIS       weighted distances to five Boston employment centres\n",
    "                 Distàncies ponderades DIS fins a cinc centres d'ocupació de Boston       9. RAD       index of accessibility to radial highways\n",
    "                 Índex RAD d'accessibilitat a les carreteres radials\n",
    "    10. TAX      full-value property-tax rate per $10,000\n",
    "                 Impost de valor total de l'impost sobre la propietat per 10.000 $\n",
    "    11. PTRATIO  pupil-teacher ratio by town\n",
    "                 Ràtio alumnes-professor per municipis\n",
    "    12. B        1000(Bk - 0.63)^2 where Bk is the proportion of blacks \n",
    "                 by town.\n",
    "                 1000(Bk - 0,63)^2 on Bk és la proporció de negres\n",
    "                 per poble\n",
    "    13. LSTAT    % lower status of the population\n",
    "                 % d'estatus inferior de la població\n",
    "    14. MEDV     Median value of owner-occupied homes in $1000's\n",
    "                 Valor mitjà de les cases ocupades pel propietari en 1.000 dòlars\n"
   ]
  },
  {
   "cell_type": "markdown",
   "id": "16b80e99",
   "metadata": {},
   "source": [
    " Títol: Boston Housing Data\n",
    "Origen: aquest conjunt de dades es va extreure de la biblioteca StatLib, que és mantingut a la Universitat Carnegie Mellon.                             \n",
    "Creador: Harrison, D. i Rubinfeld, D.L. 'Preus hedònics i eldemanda d'aire net', J. Environ. Economia i gestió,vol.5, 81-102, 1978. Data: 7 de juliol de 1993\n",
    "Informació rellevant:\n",
    "Es refereix als valors de l'habitatge als suburbis de Boston.\n",
    "Nombre d'instàncies: 506\n",
    "Nombre d'atributs: 13 atributs continus (incloent \"classe\"\n",
    "                         atribut \"MEDV\"), 1 atribut de valors binaris."
   ]
  },
  {
   "cell_type": "code",
   "execution_count": 137,
   "id": "caa40ef4",
   "metadata": {},
   "outputs": [
    {
     "name": "stdout",
     "output_type": "stream",
     "text": [
      "<class 'pandas.core.frame.DataFrame'>\n",
      "RangeIndex: 506 entries, 0 to 505\n",
      "Data columns (total 14 columns):\n",
      " #   Column   Non-Null Count  Dtype  \n",
      "---  ------   --------------  -----  \n",
      " 0   CRIM     506 non-null    float64\n",
      " 1   ZN       506 non-null    float64\n",
      " 2   INDUS    506 non-null    float64\n",
      " 3   CHAS     506 non-null    int64  \n",
      " 4   NOX      506 non-null    float64\n",
      " 5   RM       506 non-null    float64\n",
      " 6   AGE      506 non-null    float64\n",
      " 7   DIS      506 non-null    float64\n",
      " 8   RAD      506 non-null    int64  \n",
      " 9   TAX      506 non-null    float64\n",
      " 10  PTRATIO  506 non-null    float64\n",
      " 11  B        506 non-null    float64\n",
      " 12  LSTAT    506 non-null    float64\n",
      " 13  MEDV     506 non-null    float64\n",
      "dtypes: float64(12), int64(2)\n",
      "memory usage: 55.5 KB\n"
     ]
    }
   ],
   "source": [
    "data.info()"
   ]
  },
  {
   "cell_type": "code",
   "execution_count": 138,
   "id": "e93d43b8",
   "metadata": {},
   "outputs": [
    {
     "data": {
      "text/html": [
       "<div>\n",
       "<style scoped>\n",
       "    .dataframe tbody tr th:only-of-type {\n",
       "        vertical-align: middle;\n",
       "    }\n",
       "\n",
       "    .dataframe tbody tr th {\n",
       "        vertical-align: top;\n",
       "    }\n",
       "\n",
       "    .dataframe thead th {\n",
       "        text-align: right;\n",
       "    }\n",
       "</style>\n",
       "<table border=\"1\" class=\"dataframe\">\n",
       "  <thead>\n",
       "    <tr style=\"text-align: right;\">\n",
       "      <th></th>\n",
       "      <th>CRIM</th>\n",
       "      <th>ZN</th>\n",
       "      <th>INDUS</th>\n",
       "      <th>CHAS</th>\n",
       "      <th>NOX</th>\n",
       "      <th>RM</th>\n",
       "      <th>AGE</th>\n",
       "      <th>DIS</th>\n",
       "      <th>RAD</th>\n",
       "      <th>TAX</th>\n",
       "      <th>PTRATIO</th>\n",
       "      <th>B</th>\n",
       "      <th>LSTAT</th>\n",
       "      <th>MEDV</th>\n",
       "    </tr>\n",
       "  </thead>\n",
       "  <tbody>\n",
       "    <tr>\n",
       "      <th>count</th>\n",
       "      <td>506.000000</td>\n",
       "      <td>506.000000</td>\n",
       "      <td>506.000000</td>\n",
       "      <td>506.000000</td>\n",
       "      <td>506.000000</td>\n",
       "      <td>506.000000</td>\n",
       "      <td>506.000000</td>\n",
       "      <td>506.000000</td>\n",
       "      <td>506.000000</td>\n",
       "      <td>506.000000</td>\n",
       "      <td>506.000000</td>\n",
       "      <td>506.000000</td>\n",
       "      <td>506.000000</td>\n",
       "      <td>506.000000</td>\n",
       "    </tr>\n",
       "    <tr>\n",
       "      <th>mean</th>\n",
       "      <td>3.613524</td>\n",
       "      <td>11.363636</td>\n",
       "      <td>11.136779</td>\n",
       "      <td>0.069170</td>\n",
       "      <td>0.554695</td>\n",
       "      <td>6.284634</td>\n",
       "      <td>68.574901</td>\n",
       "      <td>3.795043</td>\n",
       "      <td>9.549407</td>\n",
       "      <td>408.237154</td>\n",
       "      <td>18.455534</td>\n",
       "      <td>356.674032</td>\n",
       "      <td>12.653063</td>\n",
       "      <td>22.532806</td>\n",
       "    </tr>\n",
       "    <tr>\n",
       "      <th>std</th>\n",
       "      <td>8.601545</td>\n",
       "      <td>23.322453</td>\n",
       "      <td>6.860353</td>\n",
       "      <td>0.253994</td>\n",
       "      <td>0.115878</td>\n",
       "      <td>0.702617</td>\n",
       "      <td>28.148861</td>\n",
       "      <td>2.105710</td>\n",
       "      <td>8.707259</td>\n",
       "      <td>168.537116</td>\n",
       "      <td>2.164946</td>\n",
       "      <td>91.294864</td>\n",
       "      <td>7.141062</td>\n",
       "      <td>9.197104</td>\n",
       "    </tr>\n",
       "    <tr>\n",
       "      <th>min</th>\n",
       "      <td>0.006320</td>\n",
       "      <td>0.000000</td>\n",
       "      <td>0.460000</td>\n",
       "      <td>0.000000</td>\n",
       "      <td>0.385000</td>\n",
       "      <td>3.561000</td>\n",
       "      <td>2.900000</td>\n",
       "      <td>1.129600</td>\n",
       "      <td>1.000000</td>\n",
       "      <td>187.000000</td>\n",
       "      <td>12.600000</td>\n",
       "      <td>0.320000</td>\n",
       "      <td>1.730000</td>\n",
       "      <td>5.000000</td>\n",
       "    </tr>\n",
       "    <tr>\n",
       "      <th>25%</th>\n",
       "      <td>0.082045</td>\n",
       "      <td>0.000000</td>\n",
       "      <td>5.190000</td>\n",
       "      <td>0.000000</td>\n",
       "      <td>0.449000</td>\n",
       "      <td>5.885500</td>\n",
       "      <td>45.025000</td>\n",
       "      <td>2.100175</td>\n",
       "      <td>4.000000</td>\n",
       "      <td>279.000000</td>\n",
       "      <td>17.400000</td>\n",
       "      <td>375.377500</td>\n",
       "      <td>6.950000</td>\n",
       "      <td>17.025000</td>\n",
       "    </tr>\n",
       "    <tr>\n",
       "      <th>50%</th>\n",
       "      <td>0.256510</td>\n",
       "      <td>0.000000</td>\n",
       "      <td>9.690000</td>\n",
       "      <td>0.000000</td>\n",
       "      <td>0.538000</td>\n",
       "      <td>6.208500</td>\n",
       "      <td>77.500000</td>\n",
       "      <td>3.207450</td>\n",
       "      <td>5.000000</td>\n",
       "      <td>330.000000</td>\n",
       "      <td>19.050000</td>\n",
       "      <td>391.440000</td>\n",
       "      <td>11.360000</td>\n",
       "      <td>21.200000</td>\n",
       "    </tr>\n",
       "    <tr>\n",
       "      <th>75%</th>\n",
       "      <td>3.677083</td>\n",
       "      <td>12.500000</td>\n",
       "      <td>18.100000</td>\n",
       "      <td>0.000000</td>\n",
       "      <td>0.624000</td>\n",
       "      <td>6.623500</td>\n",
       "      <td>94.075000</td>\n",
       "      <td>5.188425</td>\n",
       "      <td>24.000000</td>\n",
       "      <td>666.000000</td>\n",
       "      <td>20.200000</td>\n",
       "      <td>396.225000</td>\n",
       "      <td>16.955000</td>\n",
       "      <td>25.000000</td>\n",
       "    </tr>\n",
       "    <tr>\n",
       "      <th>max</th>\n",
       "      <td>88.976200</td>\n",
       "      <td>100.000000</td>\n",
       "      <td>27.740000</td>\n",
       "      <td>1.000000</td>\n",
       "      <td>0.871000</td>\n",
       "      <td>8.780000</td>\n",
       "      <td>100.000000</td>\n",
       "      <td>12.126500</td>\n",
       "      <td>24.000000</td>\n",
       "      <td>711.000000</td>\n",
       "      <td>22.000000</td>\n",
       "      <td>396.900000</td>\n",
       "      <td>37.970000</td>\n",
       "      <td>50.000000</td>\n",
       "    </tr>\n",
       "  </tbody>\n",
       "</table>\n",
       "</div>"
      ],
      "text/plain": [
       "             CRIM          ZN       INDUS        CHAS         NOX          RM  \\\n",
       "count  506.000000  506.000000  506.000000  506.000000  506.000000  506.000000   \n",
       "mean     3.613524   11.363636   11.136779    0.069170    0.554695    6.284634   \n",
       "std      8.601545   23.322453    6.860353    0.253994    0.115878    0.702617   \n",
       "min      0.006320    0.000000    0.460000    0.000000    0.385000    3.561000   \n",
       "25%      0.082045    0.000000    5.190000    0.000000    0.449000    5.885500   \n",
       "50%      0.256510    0.000000    9.690000    0.000000    0.538000    6.208500   \n",
       "75%      3.677083   12.500000   18.100000    0.000000    0.624000    6.623500   \n",
       "max     88.976200  100.000000   27.740000    1.000000    0.871000    8.780000   \n",
       "\n",
       "              AGE         DIS         RAD         TAX     PTRATIO           B  \\\n",
       "count  506.000000  506.000000  506.000000  506.000000  506.000000  506.000000   \n",
       "mean    68.574901    3.795043    9.549407  408.237154   18.455534  356.674032   \n",
       "std     28.148861    2.105710    8.707259  168.537116    2.164946   91.294864   \n",
       "min      2.900000    1.129600    1.000000  187.000000   12.600000    0.320000   \n",
       "25%     45.025000    2.100175    4.000000  279.000000   17.400000  375.377500   \n",
       "50%     77.500000    3.207450    5.000000  330.000000   19.050000  391.440000   \n",
       "75%     94.075000    5.188425   24.000000  666.000000   20.200000  396.225000   \n",
       "max    100.000000   12.126500   24.000000  711.000000   22.000000  396.900000   \n",
       "\n",
       "            LSTAT        MEDV  \n",
       "count  506.000000  506.000000  \n",
       "mean    12.653063   22.532806  \n",
       "std      7.141062    9.197104  \n",
       "min      1.730000    5.000000  \n",
       "25%      6.950000   17.025000  \n",
       "50%     11.360000   21.200000  \n",
       "75%     16.955000   25.000000  \n",
       "max     37.970000   50.000000  "
      ]
     },
     "execution_count": 138,
     "metadata": {},
     "output_type": "execute_result"
    }
   ],
   "source": [
    "data.describe()"
   ]
  },
  {
   "cell_type": "code",
   "execution_count": 139,
   "id": "bac1b8c8",
   "metadata": {},
   "outputs": [
    {
     "data": {
      "text/plain": [
       "CRIM       0\n",
       "ZN         0\n",
       "INDUS      0\n",
       "CHAS       0\n",
       "NOX        0\n",
       "RM         0\n",
       "AGE        0\n",
       "DIS        0\n",
       "RAD        0\n",
       "TAX        0\n",
       "PTRATIO    0\n",
       "B          0\n",
       "LSTAT      0\n",
       "MEDV       0\n",
       "dtype: int64"
      ]
     },
     "execution_count": 139,
     "metadata": {},
     "output_type": "execute_result"
    }
   ],
   "source": [
    "data.isnull().sum()"
   ]
  },
  {
   "cell_type": "code",
   "execution_count": 140,
   "id": "81600431",
   "metadata": {},
   "outputs": [
    {
     "data": {
      "text/plain": [
       "(506, 14)"
      ]
     },
     "execution_count": 140,
     "metadata": {},
     "output_type": "execute_result"
    }
   ],
   "source": [
    "data.shape"
   ]
  },
  {
   "cell_type": "code",
   "execution_count": 141,
   "id": "11a9e6a4",
   "metadata": {},
   "outputs": [],
   "source": [
    "import matplotlib.pyplot as plt\n",
    "import matplotlib as mpl\n",
    "import seaborn as sns  \n",
    "import warnings\n",
    "warnings.filterwarnings('ignore')"
   ]
  },
  {
   "cell_type": "code",
   "execution_count": 142,
   "id": "ed1f0630",
   "metadata": {},
   "outputs": [
    {
     "data": {
      "image/png": "[encoded data removed]",
      "text/plain": [
       "<Figure size 1152x1152 with 2 Axes>"
      ]
     },
     "metadata": {},
     "output_type": "display_data"
    }
   ],
   "source": [
    "sns.heatmap(data.corr(), cmap = \"Blues\", annot = True)\n",
    "sns.set(rc = {'figure.figsize':(16,16)})"
   ]
  },
  {
   "cell_type": "markdown",
   "id": "5303852b",
   "metadata": {},
   "source": [
    "Dividir Features i Target.\n",
    "Features columnes i Target columna MEDV(valors binaris)Valor mitjà de les cases ocupades pel propietari en 1.000 dòlars "
   ]
  },
  {
   "cell_type": "code",
   "execution_count": 143,
   "id": "33583347",
   "metadata": {},
   "outputs": [],
   "source": [
    "from sklearn.model_selection import train_test_split"
   ]
  },
  {
   "cell_type": "code",
   "execution_count": 144,
   "id": "0dd02312",
   "metadata": {},
   "outputs": [],
   "source": [
    "X_train, X_test, y_train, y_test = train_test_split(\n",
    "                                        data.drop(\"MEDV\", axis = 'columns'),\n",
    "                                        data['MEDV'],\n",
    "                                        train_size   = 0.8,\n",
    "                                        random_state = 1,\n",
    "                                        shuffle      = True)"
   ]
  },
  {
   "cell_type": "code",
   "execution_count": 145,
   "id": "02ade743",
   "metadata": {},
   "outputs": [
    {
     "name": "stdout",
     "output_type": "stream",
     "text": [
      "(404, 13) (102, 13) (404,) (102,)\n"
     ]
    }
   ],
   "source": [
    "print(X_train.shape, X_test.shape, y_train.shape, y_test.shape)"
   ]
  },
  {
   "cell_type": "code",
   "execution_count": 146,
   "id": "0b25bc78",
   "metadata": {},
   "outputs": [
    {
     "data": {
      "text/plain": [
       "0.7984189723320159"
      ]
     },
     "execution_count": 146,
     "metadata": {},
     "output_type": "execute_result"
    }
   ],
   "source": [
    "404/506"
   ]
  },
  {
   "cell_type": "code",
   "execution_count": 147,
   "id": "702b5be8",
   "metadata": {},
   "outputs": [
    {
     "name": "stdout",
     "output_type": "stream",
     "text": [
      "Partició d'entrenament\n",
      "count    404.000000\n",
      "mean      22.522277\n",
      "std        8.998991\n",
      "min        5.000000\n",
      "25%       17.175000\n",
      "50%       21.050000\n",
      "75%       25.225000\n",
      "max       50.000000\n",
      "Name: MEDV, dtype: float64\n"
     ]
    }
   ],
   "source": [
    "print(\"Partició d'entrenament\")\n",
    "print(y_train.describe())"
   ]
  },
  {
   "cell_type": "code",
   "execution_count": 148,
   "id": "a3c16436",
   "metadata": {},
   "outputs": [
    {
     "name": "stdout",
     "output_type": "stream",
     "text": [
      "Partició de test\n",
      "count    102.000000\n",
      "mean      22.574510\n",
      "std        9.990289\n",
      "min        6.300000\n",
      "25%       16.275000\n",
      "50%       21.850000\n",
      "75%       24.100000\n",
      "max       50.000000\n",
      "Name: MEDV, dtype: float64\n"
     ]
    }
   ],
   "source": [
    "print(\"Partició de test\")\n",
    "print(y_test.describe())"
   ]
  },
  {
   "cell_type": "code",
   "execution_count": 149,
   "id": "944287d1",
   "metadata": {},
   "outputs": [
    {
     "name": "stdout",
     "output_type": "stream",
     "text": [
      "<class 'pandas.core.series.Series'>\n",
      "Int64Index: 404 entries, 42 to 37\n",
      "Series name: MEDV\n",
      "Non-Null Count  Dtype  \n",
      "--------------  -----  \n",
      "404 non-null    float64\n",
      "dtypes: float64(1)\n",
      "memory usage: 6.3 KB\n"
     ]
    }
   ],
   "source": [
    "y_train.info()"
   ]
  },
  {
   "cell_type": "code",
   "execution_count": 150,
   "id": "8f175015",
   "metadata": {},
   "outputs": [
    {
     "name": "stdout",
     "output_type": "stream",
     "text": [
      "<class 'pandas.core.series.Series'>\n",
      "Int64Index: 102 entries, 307 to 443\n",
      "Series name: MEDV\n",
      "Non-Null Count  Dtype  \n",
      "--------------  -----  \n",
      "102 non-null    float64\n",
      "dtypes: float64(1)\n",
      "memory usage: 1.6 KB\n"
     ]
    }
   ],
   "source": [
    "y_test.info()"
   ]
  },
  {
   "cell_type": "markdown",
   "id": "2264fa98",
   "metadata": {},
   "source": [
    "tres algorismes de regressió coneguts per crear models que s'adaptin a les dades:\n",
    "\n",
    "Regressió lineal amb LinearRegression()\n",
    "Augment del gradient amb GradientBoostingRegressor()\n",
    "Bosc aleatori amb RandomForestRegressor()"
   ]
  },
  {
   "cell_type": "code",
   "execution_count": 151,
   "id": "676ca749",
   "metadata": {},
   "outputs": [
    {
     "name": "stdout",
     "output_type": "stream",
     "text": [
      "LinearRegression train és 0.7293585058196337\n",
      "LinearRegression test és 0.7634174432138457\n",
      "Gradient Boosting train és 0.977914662228525\n",
      "Gradient Boosting test es 0.9248242071348934\n",
      "Random Forest train és 0.982948762782292\n",
      "Random Forest test és 0.9093408123842346\n"
     ]
    }
   ],
   "source": [
    "from sklearn.linear_model import LinearRegression\n",
    "model = LinearRegression().fit(X_train, y_train)\n",
    "train_1 = model.score(X_train, y_train)\n",
    "test_1 = model.score(X_test, y_test)\n",
    "print('LinearRegression train és',train_1)\n",
    "print('LinearRegression test és',test_1)\n",
    "\n",
    "from sklearn.ensemble import GradientBoostingRegressor\n",
    "model_2 = GradientBoostingRegressor(random_state=0).fit(X_train, y_train)\n",
    "train_2 = model_2.score(X_train, y_train)\n",
    "test_2 = model_2.score(X_test, y_test)\n",
    "print('Gradient Boosting train és', train_2)\n",
    "print('Gradient Boosting test es', test_2)\n",
    "\n",
    "from sklearn.ensemble import RandomForestRegressor\n",
    "model_3 = RandomForestRegressor (random_state = 0).fit(X_train, y_train)\n",
    "train_3 = model_3.score(X_train, y_train)\n",
    "test_3 = model_3.score(X_test, y_test)\n",
    "print('Random Forest train és', train_3)\n",
    "print('Random Forest test és', test_3)"
   ]
  },
  {
   "cell_type": "markdown",
   "id": "343fe876",
   "metadata": {},
   "source": [
    "La mesura de precisió obtinguda amb .score() és el coeficient de determinació. Es pot calcular amb el conjunt d'entrenament o de test.La puntuació obtinguda amb el conjunt de proves representa una estimació imparcial del rendiment.\n",
    "El model Gradient Boosting i Random Forest donar millor resultat de coeficient que Linear Regression. "
   ]
  },
  {
   "cell_type": "code",
   "execution_count": 152,
   "id": "ef3d9dc4",
   "metadata": {},
   "outputs": [
    {
     "name": "stdout",
     "output_type": "stream",
     "text": [
      "MAE: 2.351\n"
     ]
    }
   ],
   "source": [
    "from sklearn.ensemble import RandomForestClassifier\n",
    "from sklearn.metrics import accuracy_score\n",
    "from sklearn.metrics import mean_absolute_error\n",
    "model = RandomForestRegressor(random_state=1)\n",
    "model.fit(X_train, y_train)\n",
    "yhat = model.predict(X_test)\n",
    "mae = mean_absolute_error(y_test, yhat)\n",
    "print('MAE: %.3f' % mae)"
   ]
  },
  {
   "cell_type": "markdown",
   "id": "59a6022a",
   "metadata": {},
   "source": [
    "La sortida MAE és de coma flotant no negatiu. El millor valor és 0,0.\n",
    "l'error absolut mitjà serveix per quantificar la precisió d'una tècnica de predicció"
   ]
  },
  {
   "cell_type": "markdown",
   "id": "87670082",
   "metadata": {
    "scrolled": true
   },
   "source": [
    "### Exercici 2\n",
    "#### Aplica algun procés de transformació (estandarditzar les dades numèriques, crear columnes dummies, polinomis...)."
   ]
  },
  {
   "cell_type": "code",
   "execution_count": 153,
   "id": "a93ced4c",
   "metadata": {},
   "outputs": [],
   "source": [
    "from sklearn import preprocessing\n",
    "from sklearn.preprocessing import StandardScaler\n",
    "from sklearn.preprocessing import RobustScaler\n",
    "from scipy.stats import shapiro"
   ]
  },
  {
   "cell_type": "markdown",
   "id": "bd479132",
   "metadata": {},
   "source": [
    "Estandaritzar dades"
   ]
  },
  {
   "cell_type": "code",
   "execution_count": 154,
   "id": "8b8d6b2f",
   "metadata": {},
   "outputs": [
    {
     "name": "stdout",
     "output_type": "stream",
     "text": [
      "stat=0.450, p=0.000\n",
      " NO GaussiàCRIM\n",
      "stat=0.556, p=0.000\n",
      " NO GaussiàZN\n",
      "stat=0.900, p=0.000\n",
      " NO GaussiàINDUS\n",
      "stat=0.275, p=0.000\n",
      " NO GaussiàCHAS\n",
      "stat=0.936, p=0.000\n",
      " NO GaussiàNOX\n",
      "stat=0.961, p=0.000\n",
      " NO GaussiàRM\n",
      "stat=0.892, p=0.000\n",
      " NO GaussiàAGE\n",
      "stat=0.903, p=0.000\n",
      " NO GaussiàDIS\n",
      "stat=0.680, p=0.000\n",
      " NO GaussiàRAD\n",
      "stat=0.815, p=0.000\n",
      " NO GaussiàTAX\n",
      "stat=0.904, p=0.000\n",
      " NO GaussiàPTRATIO\n",
      "stat=0.477, p=0.000\n",
      " NO GaussiàB\n",
      "stat=0.937, p=0.000\n",
      " NO GaussiàLSTAT\n",
      "stat=0.917, p=0.000\n",
      " NO GaussiàMEDV\n"
     ]
    }
   ],
   "source": [
    "for columns in data:\n",
    "  stat, p = shapiro(data[columns])\n",
    "  print('stat=%.3f, p=%.3f' % (stat, p))\n",
    "  if p > 0.05:\n",
    "\t  print(' SI Gaussià'+ columns)\n",
    "  else:\n",
    "\t  print(' NO Gaussià' + columns)\n",
    "     "
   ]
  },
  {
   "cell_type": "markdown",
   "id": "78722523",
   "metadata": {},
   "source": [
    "No hi ha cap columna en distribució Gaussiana."
   ]
  },
  {
   "cell_type": "code",
   "execution_count": 155,
   "id": "f572c367",
   "metadata": {},
   "outputs": [
    {
     "data": {
      "text/plain": [
       "(array([[-0.41978194,  0.28482986, -1.2879095 , ...,  0.44105193,\n",
       "         -1.0755623 ,  0.15968566],\n",
       "        [-0.41733926, -0.48772236, -0.59338101, ...,  0.44105193,\n",
       "         -0.49243937, -0.10152429],\n",
       "        [-0.41734159, -0.48772236, -0.59338101, ...,  0.39642699,\n",
       "         -1.2087274 ,  1.32424667],\n",
       "        ...,\n",
       "        [-0.41344658, -0.48772236,  0.11573841, ...,  0.44105193,\n",
       "         -0.98304761,  0.14880191],\n",
       "        [-0.40776407, -0.48772236,  0.11573841, ...,  0.4032249 ,\n",
       "         -0.86530163, -0.0579893 ],\n",
       "        [-0.41500016, -0.48772236,  0.11573841, ...,  0.44105193,\n",
       "         -0.66905833, -1.15724782]]),\n",
       " array([[-0.06959315,  1.44      , -0.57164988, ...,  0.26190191,\n",
       "         -0.63768116,  0.35109718],\n",
       "        [-0.06375455,  0.        , -0.20294345, ...,  0.26190191,\n",
       "         -0.22188906,  0.05015674],\n",
       "        [-0.06376011,  0.        , -0.20294345, ...,  0.06667466,\n",
       "         -0.73263368,  1.69278997],\n",
       "        ...,\n",
       "        [-0.05445006,  0.        ,  0.17350891, ...,  0.26190191,\n",
       "         -0.57171414,  0.33855799],\n",
       "        [-0.04086745,  0.        ,  0.17350891, ...,  0.09641444,\n",
       "         -0.48775612,  0.10031348],\n",
       "        [-0.05816351,  0.        ,  0.17350891, ...,  0.26190191,\n",
       "         -0.34782609, -1.1661442 ]]))"
      ]
     },
     "execution_count": 155,
     "metadata": {},
     "output_type": "execute_result"
    }
   ],
   "source": [
    "data_standard_scaler = preprocessing.StandardScaler().fit_transform(data)\n",
    "data_robust_scaler = preprocessing.RobustScaler().fit_transform(data)\n",
    "data_standard_scaler, data_robust_scaler"
   ]
  },
  {
   "cell_type": "markdown",
   "id": "50d77c91",
   "metadata": {},
   "source": [
    "crear columnes dummies"
   ]
  },
  {
   "cell_type": "code",
   "execution_count": 156,
   "id": "13d14aba",
   "metadata": {},
   "outputs": [
    {
     "data": {
      "text/html": [
       "<div>\n",
       "<style scoped>\n",
       "    .dataframe tbody tr th:only-of-type {\n",
       "        vertical-align: middle;\n",
       "    }\n",
       "\n",
       "    .dataframe tbody tr th {\n",
       "        vertical-align: top;\n",
       "    }\n",
       "\n",
       "    .dataframe thead th {\n",
       "        text-align: right;\n",
       "    }\n",
       "</style>\n",
       "<table border=\"1\" class=\"dataframe\">\n",
       "  <thead>\n",
       "    <tr style=\"text-align: right;\">\n",
       "      <th></th>\n",
       "      <th>CHAS_0</th>\n",
       "      <th>CHAS_1</th>\n",
       "    </tr>\n",
       "  </thead>\n",
       "  <tbody>\n",
       "    <tr>\n",
       "      <th>0</th>\n",
       "      <td>1</td>\n",
       "      <td>0</td>\n",
       "    </tr>\n",
       "    <tr>\n",
       "      <th>1</th>\n",
       "      <td>1</td>\n",
       "      <td>0</td>\n",
       "    </tr>\n",
       "    <tr>\n",
       "      <th>2</th>\n",
       "      <td>1</td>\n",
       "      <td>0</td>\n",
       "    </tr>\n",
       "    <tr>\n",
       "      <th>3</th>\n",
       "      <td>1</td>\n",
       "      <td>0</td>\n",
       "    </tr>\n",
       "    <tr>\n",
       "      <th>4</th>\n",
       "      <td>1</td>\n",
       "      <td>0</td>\n",
       "    </tr>\n",
       "    <tr>\n",
       "      <th>...</th>\n",
       "      <td>...</td>\n",
       "      <td>...</td>\n",
       "    </tr>\n",
       "    <tr>\n",
       "      <th>501</th>\n",
       "      <td>1</td>\n",
       "      <td>0</td>\n",
       "    </tr>\n",
       "    <tr>\n",
       "      <th>502</th>\n",
       "      <td>1</td>\n",
       "      <td>0</td>\n",
       "    </tr>\n",
       "    <tr>\n",
       "      <th>503</th>\n",
       "      <td>1</td>\n",
       "      <td>0</td>\n",
       "    </tr>\n",
       "    <tr>\n",
       "      <th>504</th>\n",
       "      <td>1</td>\n",
       "      <td>0</td>\n",
       "    </tr>\n",
       "    <tr>\n",
       "      <th>505</th>\n",
       "      <td>1</td>\n",
       "      <td>0</td>\n",
       "    </tr>\n",
       "  </tbody>\n",
       "</table>\n",
       "<p>506 rows × 2 columns</p>\n",
       "</div>"
      ],
      "text/plain": [
       "     CHAS_0  CHAS_1\n",
       "0         1       0\n",
       "1         1       0\n",
       "2         1       0\n",
       "3         1       0\n",
       "4         1       0\n",
       "..      ...     ...\n",
       "501       1       0\n",
       "502       1       0\n",
       "503       1       0\n",
       "504       1       0\n",
       "505       1       0\n",
       "\n",
       "[506 rows x 2 columns]"
      ]
     },
     "execution_count": 156,
     "metadata": {},
     "output_type": "execute_result"
    }
   ],
   "source": [
    "data_dummy = data.copy()\n",
    "Dummies_CHAS= pd.get_dummies(data_dummy[\"CHAS\"],drop_first = False, prefix = \"CHAS\")\n",
    "data_dummy= pd.concat([data_dummy, Dummies_CHAS], axis = 1)\n",
    "data_dummy = data_dummy.drop(['CRIM', 'ZN', 'INDUS','CHAS', 'NOX', 'RM', 'AGE', 'DIS', 'RAD', 'TAX', 'PTRATIO', 'B', 'LSTAT', 'MEDV'], axis=1)\n",
    "data_dummy"
   ]
  },
  {
   "cell_type": "markdown",
   "id": "529e9658",
   "metadata": {},
   "source": [
    "### Exercici 3\n",
    "#### Resumeix les noves columnes generades de manera estadística i gràfica"
   ]
  },
  {
   "cell_type": "code",
   "execution_count": 174,
   "id": "d5c07919",
   "metadata": {},
   "outputs": [
    {
     "data": {
      "image/png": "[encoded data removed]",
      "text/plain": [
       "<Figure size 1152x1152 with 1 Axes>"
      ]
     },
     "metadata": {},
     "output_type": "display_data"
    }
   ],
   "source": [
    "Dummies = data_dummy.melt()\n",
    "ax = sns.countplot(data=Dummies, x='variable', hue='value')\n",
    "ax.legend(labels=['no pròxim al riu','sí, pròxim al riu'])\n",
    "plt.tight_layout()\n",
    "plt.show()"
   ]
  },
  {
   "cell_type": "code",
   "execution_count": null,
   "id": "30d1b7d2",
   "metadata": {},
   "outputs": [],
   "source": []
  }
 ],
 "metadata": {
  "kernelspec": {
   "display_name": "Python 3 (ipykernel)",
   "language": "python",
   "name": "python3"
  },
  "language_info": {
   "codemirror_mode": {
    "name": "ipython",
    "version": 3
   },
   "file_extension": ".py",
   "mimetype": "text/x-python",
   "name": "python",
   "nbconvert_exporter": "python",
   "pygments_lexer": "ipython3",
   "version": "3.9.12"
  }
 },
 "nbformat": 4,
 "nbformat_minor": 5
}
